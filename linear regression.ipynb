{
 "cells": [
  {
   "cell_type": "code",
   "execution_count": 12,
   "metadata": {},
   "outputs": [],
   "source": [
    "import pandas as pd\n",
    "import numpy as np\n",
    "from sklearn.model_selection import train_test_split\n",
    "from sklearn.metrics import mean_squared_error, r2_score, mean_absolute_error\n",
    "from sklearn.linear_model import LinearRegression\n",
    "import matplotlib.pyplot as plt"
   ]
  },
  {
   "cell_type": "code",
   "execution_count": 13,
   "metadata": {},
   "outputs": [],
   "source": [
    "data = pd.read_csv(\"hour.csv\",sep=\";\")\n"
   ]
  },
  {
   "cell_type": "code",
   "execution_count": 14,
   "metadata": {},
   "outputs": [
    {
     "name": "stdout",
     "output_type": "stream",
     "text": [
      "       instant      dteday  season  yr  mnth  hr  holiday  weekday  \\\n",
      "0            1   1.01.2011       1   0     1   0        0        6   \n",
      "1            2   1.01.2011       1   0     1   1        0        6   \n",
      "2            3   1.01.2011       1   0     1   2        0        6   \n",
      "3            4   1.01.2011       1   0     1   3        0        6   \n",
      "4            5   1.01.2011       1   0     1   4        0        6   \n",
      "5            6   1.01.2011       1   0     1   5        0        6   \n",
      "6            7   1.01.2011       1   0     1   6        0        6   \n",
      "7            8   1.01.2011       1   0     1   7        0        6   \n",
      "8            9   1.01.2011       1   0     1   8        0        6   \n",
      "9           10   1.01.2011       1   0     1   9        0        6   \n",
      "10          11   1.01.2011       1   0     1  10        0        6   \n",
      "11          12   1.01.2011       1   0     1  11        0        6   \n",
      "12          13   1.01.2011       1   0     1  12        0        6   \n",
      "13          14   1.01.2011       1   0     1  13        0        6   \n",
      "14          15   1.01.2011       1   0     1  14        0        6   \n",
      "15          16   1.01.2011       1   0     1  15        0        6   \n",
      "16          17   1.01.2011       1   0     1  16        0        6   \n",
      "17          18   1.01.2011       1   0     1  17        0        6   \n",
      "18          19   1.01.2011       1   0     1  18        0        6   \n",
      "19          20   1.01.2011       1   0     1  19        0        6   \n",
      "20          21   1.01.2011       1   0     1  20        0        6   \n",
      "21          22   1.01.2011       1   0     1  21        0        6   \n",
      "22          23   1.01.2011       1   0     1  22        0        6   \n",
      "23          24   1.01.2011       1   0     1  23        0        6   \n",
      "24          25   2.01.2011       1   0     1   0        0        0   \n",
      "25          26   2.01.2011       1   0     1   1        0        0   \n",
      "26          27   2.01.2011       1   0     1   2        0        0   \n",
      "27          28   2.01.2011       1   0     1   3        0        0   \n",
      "28          29   2.01.2011       1   0     1   4        0        0   \n",
      "29          30   2.01.2011       1   0     1   6        0        0   \n",
      "...        ...         ...     ...  ..   ...  ..      ...      ...   \n",
      "17349    17350  30.12.2012       1   1    12  18        0        0   \n",
      "17350    17351  30.12.2012       1   1    12  19        0        0   \n",
      "17351    17352  30.12.2012       1   1    12  20        0        0   \n",
      "17352    17353  30.12.2012       1   1    12  21        0        0   \n",
      "17353    17354  30.12.2012       1   1    12  22        0        0   \n",
      "17354    17355  30.12.2012       1   1    12  23        0        0   \n",
      "17355    17356  31.12.2012       1   1    12   0        0        1   \n",
      "17356    17357  31.12.2012       1   1    12   1        0        1   \n",
      "17357    17358  31.12.2012       1   1    12   2        0        1   \n",
      "17358    17359  31.12.2012       1   1    12   3        0        1   \n",
      "17359    17360  31.12.2012       1   1    12   4        0        1   \n",
      "17360    17361  31.12.2012       1   1    12   5        0        1   \n",
      "17361    17362  31.12.2012       1   1    12   6        0        1   \n",
      "17362    17363  31.12.2012       1   1    12   7        0        1   \n",
      "17363    17364  31.12.2012       1   1    12   8        0        1   \n",
      "17364    17365  31.12.2012       1   1    12   9        0        1   \n",
      "17365    17366  31.12.2012       1   1    12  10        0        1   \n",
      "17366    17367  31.12.2012       1   1    12  11        0        1   \n",
      "17367    17368  31.12.2012       1   1    12  12        0        1   \n",
      "17368    17369  31.12.2012       1   1    12  13        0        1   \n",
      "17369    17370  31.12.2012       1   1    12  14        0        1   \n",
      "17370    17371  31.12.2012       1   1    12  15        0        1   \n",
      "17371    17372  31.12.2012       1   1    12  16        0        1   \n",
      "17372    17373  31.12.2012       1   1    12  17        0        1   \n",
      "17373    17374  31.12.2012       1   1    12  18        0        1   \n",
      "17374    17375  31.12.2012       1   1    12  19        0        1   \n",
      "17375    17376  31.12.2012       1   1    12  20        0        1   \n",
      "17376    17377  31.12.2012       1   1    12  21        0        1   \n",
      "17377    17378  31.12.2012       1   1    12  22        0        1   \n",
      "17378    17379  31.12.2012       1   1    12  23        0        1   \n",
      "\n",
      "       workingday  weathersit  temp   atemp   hum  windspeed  casual  \\\n",
      "0               0           1  0.24  0.2879  0.81     0.0000       3   \n",
      "1               0           1  0.22  0.2727  0.80     0.0000       8   \n",
      "2               0           1  0.22  0.2727  0.80     0.0000       5   \n",
      "3               0           1  0.24  0.2879  0.75     0.0000       3   \n",
      "4               0           1  0.24  0.2879  0.75     0.0000       0   \n",
      "5               0           2  0.24  0.2576  0.75     0.0896       0   \n",
      "6               0           1  0.22  0.2727  0.80     0.0000       2   \n",
      "7               0           1  0.20  0.2576  0.86     0.0000       1   \n",
      "8               0           1  0.24  0.2879  0.75     0.0000       1   \n",
      "9               0           1  0.32  0.3485  0.76     0.0000       8   \n",
      "10              0           1  0.38  0.3939  0.76     0.2537      12   \n",
      "11              0           1  0.36  0.3333  0.81     0.2836      26   \n",
      "12              0           1  0.42  0.4242  0.77     0.2836      29   \n",
      "13              0           2  0.46  0.4545  0.72     0.2985      47   \n",
      "14              0           2  0.46  0.4545  0.72     0.2836      35   \n",
      "15              0           2  0.44  0.4394  0.77     0.2985      40   \n",
      "16              0           2  0.42  0.4242  0.82     0.2985      41   \n",
      "17              0           2  0.44  0.4394  0.82     0.2836      15   \n",
      "18              0           3  0.42  0.4242  0.88     0.2537       9   \n",
      "19              0           3  0.42  0.4242  0.88     0.2537       6   \n",
      "20              0           2  0.40  0.4091  0.87     0.2537      11   \n",
      "21              0           2  0.40  0.4091  0.87     0.1940       3   \n",
      "22              0           2  0.40  0.4091  0.94     0.2239      11   \n",
      "23              0           2  0.46  0.4545  0.88     0.2985      15   \n",
      "24              0           2  0.46  0.4545  0.88     0.2985       4   \n",
      "25              0           2  0.44  0.4394  0.94     0.2537       1   \n",
      "26              0           2  0.42  0.4242  1.00     0.2836       1   \n",
      "27              0           2  0.46  0.4545  0.94     0.1940       2   \n",
      "28              0           2  0.46  0.4545  0.94     0.1940       2   \n",
      "29              0           3  0.42  0.4242  0.77     0.2985       0   \n",
      "...           ...         ...   ...     ...   ...        ...     ...   \n",
      "17349           0           2  0.24  0.2121  0.44     0.2985      12   \n",
      "17350           0           1  0.34  0.3636  0.61     0.0000      16   \n",
      "17351           0           1  0.22  0.1970  0.47     0.3284       9   \n",
      "17352           0           1  0.20  0.2121  0.51     0.1642       5   \n",
      "17353           0           1  0.20  0.1970  0.55     0.1940       6   \n",
      "17354           0           1  0.20  0.1970  0.51     0.2239      10   \n",
      "17355           1           1  0.18  0.1818  0.55     0.1940       4   \n",
      "17356           1           1  0.18  0.1818  0.55     0.1940       6   \n",
      "17357           1           1  0.16  0.1667  0.59     0.1642       3   \n",
      "17358           1           1  0.16  0.1818  0.59     0.1045       0   \n",
      "17359           1           1  0.14  0.1667  0.69     0.1045       0   \n",
      "17360           1           1  0.16  0.1515  0.64     0.1940       0   \n",
      "17361           1           1  0.16  0.1667  0.64     0.1642       0   \n",
      "17362           1           1  0.16  0.1818  0.64     0.1343       2   \n",
      "17363           1           1  0.14  0.1515  0.69     0.1343       9   \n",
      "17364           1           2  0.18  0.2121  0.64     0.1045      13   \n",
      "17365           1           2  0.20  0.2121  0.69     0.1343      33   \n",
      "17366           1           2  0.22  0.2273  0.60     0.1940      43   \n",
      "17367           1           2  0.24  0.2273  0.56     0.1940      52   \n",
      "17368           1           2  0.26  0.2576  0.44     0.1642      38   \n",
      "17369           1           2  0.28  0.2727  0.45     0.2239      62   \n",
      "17370           1           2  0.28  0.2879  0.45     0.1343      69   \n",
      "17371           1           2  0.26  0.2576  0.48     0.1940      30   \n",
      "17372           1           2  0.26  0.2879  0.48     0.0896      14   \n",
      "17373           1           2  0.26  0.2727  0.48     0.1343      10   \n",
      "17374           1           2  0.26  0.2576  0.60     0.1642      11   \n",
      "17375           1           2  0.26  0.2576  0.60     0.1642       8   \n",
      "17376           1           1  0.26  0.2576  0.60     0.1642       7   \n",
      "17377           1           1  0.26  0.2727  0.56     0.1343      13   \n",
      "17378           1           1  0.26  0.2727  0.65     0.1343      12   \n",
      "\n",
      "       registered  cnt  \n",
      "0              13   16  \n",
      "1              32   40  \n",
      "2              27   32  \n",
      "3              10   13  \n",
      "4               1    1  \n",
      "5               1    1  \n",
      "6               0    2  \n",
      "7               2    3  \n",
      "8               7    8  \n",
      "9               6   14  \n",
      "10             24   36  \n",
      "11             30   56  \n",
      "12             55   84  \n",
      "13             47   94  \n",
      "14             71  106  \n",
      "15             70  110  \n",
      "16             52   93  \n",
      "17             52   67  \n",
      "18             26   35  \n",
      "19             31   37  \n",
      "20             25   36  \n",
      "21             31   34  \n",
      "22             17   28  \n",
      "23             24   39  \n",
      "24             13   17  \n",
      "25             16   17  \n",
      "26              8    9  \n",
      "27              4    6  \n",
      "28              1    3  \n",
      "29              2    2  \n",
      "...           ...  ...  \n",
      "17349         113  125  \n",
      "17350          86  102  \n",
      "17351          63   72  \n",
      "17352          42   47  \n",
      "17353          30   36  \n",
      "17354          39   49  \n",
      "17355          30   34  \n",
      "17356          13   19  \n",
      "17357           8   11  \n",
      "17358           1    1  \n",
      "17359           3    3  \n",
      "17360           9    9  \n",
      "17361          40   40  \n",
      "17362          83   85  \n",
      "17363         187  196  \n",
      "17364         144  157  \n",
      "17365          87  120  \n",
      "17366         114  157  \n",
      "17367         172  224  \n",
      "17368         165  203  \n",
      "17369         185  247  \n",
      "17370         246  315  \n",
      "17371         184  214  \n",
      "17372         150  164  \n",
      "17373         112  122  \n",
      "17374         108  119  \n",
      "17375          81   89  \n",
      "17376          83   90  \n",
      "17377          48   61  \n",
      "17378          37   49  \n",
      "\n",
      "[17379 rows x 17 columns]\n"
     ]
    }
   ],
   "source": [
    "print(data)"
   ]
  },
  {
   "cell_type": "code",
   "execution_count": 24,
   "metadata": {},
   "outputs": [
    {
     "name": "stderr",
     "output_type": "stream",
     "text": [
      "c:\\users\\cansu kaplan\\appdata\\local\\programs\\python\\python37-32\\lib\\site-packages\\ipykernel_launcher.py:3: FutureWarning: Method .as_matrix will be removed in a future version. Use .values instead.\n",
      "  This is separate from the ipykernel package so we can avoid doing imports until\n",
      "c:\\users\\cansu kaplan\\appdata\\local\\programs\\python\\python37-32\\lib\\site-packages\\ipykernel_launcher.py:4: FutureWarning: Method .as_matrix will be removed in a future version. Use .values instead.\n",
      "  after removing the cwd from sys.path.\n"
     ]
    }
   ],
   "source": [
    "x=data[\"mnth\"]\n",
    "y=data[\"cnt\"]\n",
    "x=pd.DataFrame.as_matrix(x)\n",
    "y=pd.DataFrame.as_matrix(y)"
   ]
  },
  {
   "cell_type": "code",
   "execution_count": 25,
   "metadata": {},
   "outputs": [
    {
     "name": "stdout",
     "output_type": "stream",
     "text": [
      "[ 1  1  1 ... 12 12 12]\n"
     ]
    }
   ],
   "source": [
    "print(x)"
   ]
  },
  {
   "cell_type": "code",
   "execution_count": 26,
   "metadata": {},
   "outputs": [
    {
     "name": "stdout",
     "output_type": "stream",
     "text": [
      "[16 40 32 ... 90 61 49]\n"
     ]
    }
   ],
   "source": [
    "print(y)\n"
   ]
  },
  {
   "cell_type": "code",
   "execution_count": 27,
   "metadata": {},
   "outputs": [
    {
     "data": {
      "text/plain": [
       "<matplotlib.collections.PathCollection at 0xf96890>"
      ]
     },
     "execution_count": 27,
     "metadata": {},
     "output_type": "execute_result"
    },
    {
     "data": {
      "image/png": "[encoded data removed]",
      "text/plain": [
       "<Figure size 432x288 with 1 Axes>"
      ]
     },
     "metadata": {
      "needs_background": "light"
     },
     "output_type": "display_data"
    }
   ],
   "source": [
    "plt.scatter(x,y)"
   ]
  },
  {
   "cell_type": "code",
   "execution_count": 28,
   "metadata": {},
   "outputs": [],
   "source": [
    "m,b=np.polyfit(x,y,1)"
   ]
  },
  {
   "cell_type": "code",
   "execution_count": 32,
   "metadata": {},
   "outputs": [],
   "source": [
    "a=np.arange(10)"
   ]
  },
  {
   "cell_type": "code",
   "execution_count": 33,
   "metadata": {},
   "outputs": [
    {
     "data": {
      "text/plain": [
       "[<matplotlib.lines.Line2D at 0x913350>]"
      ]
     },
     "execution_count": 33,
     "metadata": {},
     "output_type": "execute_result"
    },
    {
     "data": {
      "image/png": "[encoded data removed]",
      "text/plain": [
       "<Figure size 432x288 with 1 Axes>"
      ]
     },
     "metadata": {
      "needs_background": "light"
     },
     "output_type": "display_data"
    }
   ],
   "source": [
    "plt.scatter(x,y)\n",
    "plt.plot(m*a+b)"
   ]
  },
  {
   "cell_type": "code",
   "execution_count": 34,
   "metadata": {},
   "outputs": [
    {
     "name": "stdout",
     "output_type": "stream",
     "text": [
      "kaçıncı ay?2\n",
      "160.5875545572617\n"
     ]
    }
   ],
   "source": [
    "z=int(input(\"kaçıncı ay?\"))\n",
    "tahmin=m*z+b\n",
    "print(tahmin)"
   ]
  },
  {
   "cell_type": "code",
   "execution_count": null,
   "metadata": {},
   "outputs": [],
   "source": []
  },
  {
   "cell_type": "code",
   "execution_count": null,
   "metadata": {},
   "outputs": [],
   "source": []
  }
 ],
 "metadata": {
  "kernelspec": {
   "display_name": "Python 3",
   "language": "python",
   "name": "python3"
  },
  "language_info": {
   "codemirror_mode": {
    "name": "ipython",
    "version": 3
   },
   "file_extension": ".py",
   "mimetype": "text/x-python",
   "name": "python",
   "nbconvert_exporter": "python",
   "pygments_lexer": "ipython3",
   "version": "3.7.3"
  }
 },
 "nbformat": 4,
 "nbformat_minor": 2
}
